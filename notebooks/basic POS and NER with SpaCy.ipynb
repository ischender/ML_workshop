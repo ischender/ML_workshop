{
 "cells": [
  {
   "cell_type": "code",
   "execution_count": null,
   "metadata": {},
   "outputs": [],
   "source": [
    "!pip install textacy[lang]=="
   ]
  },
  {
   "cell_type": "code",
   "execution_count": 1,
   "metadata": {},
   "outputs": [],
   "source": [
    "import textacy\n",
    "from textacy import doc"
   ]
  },
  {
   "cell_type": "code",
   "execution_count": 2,
   "metadata": {},
   "outputs": [],
   "source": [
    "text = \"ere’s a quick way to beef up your PC gaming library while helping good causes and saving money. Humble Bundle, a site that lets people buy games while donating to charities, has a new, huge collection of PC games available to anyone who donates at least $30 dollars. It’s called the Humble Freedom Bundle, with 100 percent of money earned going to ACLU (American Civil Liberties Union), IRC (International Rescue Committee), and MSF (Doctors Without Borders). Humble Bundle had an original goal of earning $300,000 before the deal ended on February 20. It has already more than doubled that with $680,625 earned. The Humble Freedom Bundle currently offers 40 games, although more may become available (don’t worry, you’ll gain access to any added games even if you pay for the bundle before). It also includes some audio and digital books. As for the games, the list includes some of the best indie efforts on PC in recent years. This includes the farming game for Stardew Valley, the first-person puzzle game The Witness, and the play-as-an-octopus-pretending-to-be-a-normal-family-man simulator Octodad: Dadliest Catch. You can find the full list on the Humble Bundle site. So, good charities get money, and you get great games for cheap. This is a win-win.\""
   ]
  },
  {
   "cell_type": "code",
   "execution_count": 3,
   "metadata": {},
   "outputs": [
    {
     "name": "stdout",
     "output_type": "stream",
     "text": [
      "ere’s a quick way to beef up your PC gaming library while helping good causes and saving money. Humble Bundle, a site that lets people buy games while donating to charities, has a new, huge collection of PC games available to anyone who donates at least $30 dollars. It’s called the Humble Freedom Bundle, with 100 percent of money earned going to ACLU (American Civil Liberties Union), IRC (International Rescue Committee), and MSF (Doctors Without Borders). Humble Bundle had an original goal of earning $300,000 before the deal ended on February 20. It has already more than doubled that with $680,625 earned. The Humble Freedom Bundle currently offers 40 games, although more may become available (don’t worry, you’ll gain access to any added games even if you pay for the bundle before). It also includes some audio and digital books. As for the games, the list includes some of the best indie efforts on PC in recent years. This includes the farming game for Stardew Valley, the first-person puzzle game The Witness, and the play-as-an-octopus-pretending-to-be-a-normal-family-man simulator Octodad: Dadliest Catch. You can find the full list on the Humble Bundle site. So, good charities get money, and you get great games for cheap. This is a win-win.\n"
     ]
    }
   ],
   "source": [
    "print(text)"
   ]
  },
  {
   "cell_type": "code",
   "execution_count": 4,
   "metadata": {},
   "outputs": [
    {
     "ename": "ImportError",
     "evalue": "`cld2-cffi` must be installed to use textacy's automatic language detection; you may do so via `pip install cld2-cffi` or `pip install textacy[lang]`.",
     "output_type": "error",
     "traceback": [
      "\u001b[0;31m---------------------------------------------------------------------------\u001b[0m",
      "\u001b[0;31mNameError\u001b[0m                                 Traceback (most recent call last)",
      "\u001b[0;32m~/Envs/nlp/lib/python3.7/site-packages/textacy/text_utils.py\u001b[0m in \u001b[0;36mdetect_language\u001b[0;34m(text)\u001b[0m\n\u001b[1;32m     36\u001b[0m     \u001b[0;32mtry\u001b[0m\u001b[0;34m:\u001b[0m\u001b[0;34m\u001b[0m\u001b[0;34m\u001b[0m\u001b[0m\n\u001b[0;32m---> 37\u001b[0;31m         \u001b[0mcld2_detect\u001b[0m\u001b[0;34m\u001b[0m\u001b[0;34m\u001b[0m\u001b[0m\n\u001b[0m\u001b[1;32m     38\u001b[0m     \u001b[0;32mexcept\u001b[0m \u001b[0mNameError\u001b[0m\u001b[0;34m:\u001b[0m\u001b[0;34m\u001b[0m\u001b[0;34m\u001b[0m\u001b[0m\n",
      "\u001b[0;31mNameError\u001b[0m: name 'cld2_detect' is not defined",
      "\nDuring handling of the above exception, another exception occurred:\n",
      "\u001b[0;31mImportError\u001b[0m                               Traceback (most recent call last)",
      "\u001b[0;32m<ipython-input-4-d9ec08d94cbf>\u001b[0m in \u001b[0;36m<module>\u001b[0;34m\u001b[0m\n\u001b[0;32m----> 1\u001b[0;31m \u001b[0mdoc_text\u001b[0m \u001b[0;34m=\u001b[0m \u001b[0mdoc\u001b[0m\u001b[0;34m.\u001b[0m\u001b[0mDoc\u001b[0m\u001b[0;34m(\u001b[0m\u001b[0mtext\u001b[0m\u001b[0;34m)\u001b[0m\u001b[0;34m\u001b[0m\u001b[0;34m\u001b[0m\u001b[0m\n\u001b[0m",
      "\u001b[0;32m~/Envs/nlp/lib/python3.7/site-packages/textacy/doc.py\u001b[0m in \u001b[0;36m__init__\u001b[0;34m(self, content, metadata, lang)\u001b[0m\n\u001b[1;32m    113\u001b[0m     \u001b[0;32mdef\u001b[0m \u001b[0m__init__\u001b[0m\u001b[0;34m(\u001b[0m\u001b[0mself\u001b[0m\u001b[0;34m,\u001b[0m \u001b[0mcontent\u001b[0m\u001b[0;34m,\u001b[0m \u001b[0mmetadata\u001b[0m\u001b[0;34m=\u001b[0m\u001b[0;32mNone\u001b[0m\u001b[0;34m,\u001b[0m \u001b[0mlang\u001b[0m\u001b[0;34m=\u001b[0m\u001b[0mtext_utils\u001b[0m\u001b[0;34m.\u001b[0m\u001b[0mdetect_language\u001b[0m\u001b[0;34m)\u001b[0m\u001b[0;34m:\u001b[0m\u001b[0;34m\u001b[0m\u001b[0;34m\u001b[0m\u001b[0m\n\u001b[1;32m    114\u001b[0m         \u001b[0;32mif\u001b[0m \u001b[0misinstance\u001b[0m\u001b[0;34m(\u001b[0m\u001b[0mcontent\u001b[0m\u001b[0;34m,\u001b[0m \u001b[0mcompat\u001b[0m\u001b[0;34m.\u001b[0m\u001b[0municode_\u001b[0m\u001b[0;34m)\u001b[0m\u001b[0;34m:\u001b[0m\u001b[0;34m\u001b[0m\u001b[0;34m\u001b[0m\u001b[0m\n\u001b[0;32m--> 115\u001b[0;31m             \u001b[0mself\u001b[0m\u001b[0;34m.\u001b[0m\u001b[0m_init_from_text\u001b[0m\u001b[0;34m(\u001b[0m\u001b[0mcontent\u001b[0m\u001b[0;34m,\u001b[0m \u001b[0mmetadata\u001b[0m\u001b[0;34m,\u001b[0m \u001b[0mlang\u001b[0m\u001b[0;34m)\u001b[0m\u001b[0;34m\u001b[0m\u001b[0;34m\u001b[0m\u001b[0m\n\u001b[0m\u001b[1;32m    116\u001b[0m         \u001b[0;32melif\u001b[0m \u001b[0misinstance\u001b[0m\u001b[0;34m(\u001b[0m\u001b[0mcontent\u001b[0m\u001b[0;34m,\u001b[0m \u001b[0mSpacyDoc\u001b[0m\u001b[0;34m)\u001b[0m\u001b[0;34m:\u001b[0m\u001b[0;34m\u001b[0m\u001b[0;34m\u001b[0m\u001b[0m\n\u001b[1;32m    117\u001b[0m             \u001b[0mself\u001b[0m\u001b[0;34m.\u001b[0m\u001b[0m_init_from_spacy_doc\u001b[0m\u001b[0;34m(\u001b[0m\u001b[0mcontent\u001b[0m\u001b[0;34m,\u001b[0m \u001b[0mmetadata\u001b[0m\u001b[0;34m,\u001b[0m \u001b[0mlang\u001b[0m\u001b[0;34m)\u001b[0m\u001b[0;34m\u001b[0m\u001b[0;34m\u001b[0m\u001b[0m\n",
      "\u001b[0;32m~/Envs/nlp/lib/python3.7/site-packages/textacy/doc.py\u001b[0m in \u001b[0;36m_init_from_text\u001b[0;34m(self, content, metadata, lang)\u001b[0m\n\u001b[1;32m    136\u001b[0m             \u001b[0mlangstr\u001b[0m \u001b[0;34m=\u001b[0m \u001b[0mspacy_lang\u001b[0m\u001b[0;34m.\u001b[0m\u001b[0mlang\u001b[0m\u001b[0;34m\u001b[0m\u001b[0;34m\u001b[0m\u001b[0m\n\u001b[1;32m    137\u001b[0m         \u001b[0;32melif\u001b[0m \u001b[0mcallable\u001b[0m\u001b[0;34m(\u001b[0m\u001b[0mlang\u001b[0m\u001b[0;34m)\u001b[0m\u001b[0;34m:\u001b[0m\u001b[0;34m\u001b[0m\u001b[0;34m\u001b[0m\u001b[0m\n\u001b[0;32m--> 138\u001b[0;31m             \u001b[0mlangstr\u001b[0m \u001b[0;34m=\u001b[0m \u001b[0mlang\u001b[0m\u001b[0;34m(\u001b[0m\u001b[0mcontent\u001b[0m\u001b[0;34m)\u001b[0m\u001b[0;34m\u001b[0m\u001b[0;34m\u001b[0m\u001b[0m\n\u001b[0m\u001b[1;32m    139\u001b[0m             \u001b[0mspacy_lang\u001b[0m \u001b[0;34m=\u001b[0m \u001b[0mcache\u001b[0m\u001b[0;34m.\u001b[0m\u001b[0mload_spacy\u001b[0m\u001b[0;34m(\u001b[0m\u001b[0mlangstr\u001b[0m\u001b[0;34m)\u001b[0m\u001b[0;34m\u001b[0m\u001b[0;34m\u001b[0m\u001b[0m\n\u001b[1;32m    140\u001b[0m         \u001b[0;32melse\u001b[0m\u001b[0;34m:\u001b[0m\u001b[0;34m\u001b[0m\u001b[0;34m\u001b[0m\u001b[0m\n",
      "\u001b[0;32m~/Envs/nlp/lib/python3.7/site-packages/textacy/text_utils.py\u001b[0m in \u001b[0;36mdetect_language\u001b[0;34m(text)\u001b[0m\n\u001b[1;32m     38\u001b[0m     \u001b[0;32mexcept\u001b[0m \u001b[0mNameError\u001b[0m\u001b[0;34m:\u001b[0m\u001b[0;34m\u001b[0m\u001b[0;34m\u001b[0m\u001b[0m\n\u001b[1;32m     39\u001b[0m         raise ImportError(\n\u001b[0;32m---> 40\u001b[0;31m             \u001b[0;34m\"`cld2-cffi` must be installed to use textacy's automatic language detection; \"\u001b[0m\u001b[0;34m\u001b[0m\u001b[0;34m\u001b[0m\u001b[0m\n\u001b[0m\u001b[1;32m     41\u001b[0m             \u001b[0;34m\"you may do so via `pip install cld2-cffi` or `pip install textacy[lang]`.\"\u001b[0m\u001b[0;34m\u001b[0m\u001b[0;34m\u001b[0m\u001b[0m\n\u001b[1;32m     42\u001b[0m         )\n",
      "\u001b[0;31mImportError\u001b[0m: `cld2-cffi` must be installed to use textacy's automatic language detection; you may do so via `pip install cld2-cffi` or `pip install textacy[lang]`."
     ]
    }
   ],
   "source": [
    "doc_text = doc.Doc(text)"
   ]
  },
  {
   "cell_type": "code",
   "execution_count": 11,
   "metadata": {},
   "outputs": [
    {
     "data": {
      "text/plain": [
       "[(Humble Bundle, 'PERSON'),\n",
       " (at least $30 dollars, 'MONEY'),\n",
       " (Humble Freedom Bundle, ''),\n",
       " (100 percent, 'PERCENT'),\n",
       " (ACLU, 'ORG'),\n",
       " (American Civil Liberties Union, 'ORG'),\n",
       " (IRC (International Rescue Committee, 'ORG'),\n",
       " (MSF, 'PERSON'),\n",
       " (Humble Bundle, 'PERSON'),\n",
       " (300,000, 'MONEY'),\n",
       " (February 20, 'DATE'),\n",
       " (with $680,625, 'MONEY'),\n",
       " (Humble Freedom Bundle, ''),\n",
       " (40, 'CARDINAL'),\n",
       " (recent years, 'DATE'),\n",
       " (Stardew Valley, 'LOC'),\n",
       " (first, 'ORDINAL'),\n",
       " (Witness, ''),\n",
       " (Octodad, 'PERSON'),\n",
       " (Dadliest Catch, 'WORK_OF_ART'),\n",
       " (Humble Bundle, 'ORG')]"
      ]
     },
     "execution_count": 11,
     "metadata": {},
     "output_type": "execute_result"
    }
   ],
   "source": [
    "el = list(textacy.extract.named_entities(doc_text))[0]\n",
    "[(el, el.label_ )for el in textacy.extract.named_entities(doc_text)]"
   ]
  },
  {
   "cell_type": "code",
   "execution_count": 10,
   "metadata": {},
   "outputs": [
    {
     "data": {
      "text/plain": [
       "'PERSON'"
      ]
     },
     "execution_count": 10,
     "metadata": {},
     "output_type": "execute_result"
    }
   ],
   "source": [
    "el.label_"
   ]
  },
  {
   "cell_type": "code",
   "execution_count": 5,
   "metadata": {},
   "outputs": [],
   "source": [
    "import spacy\n",
    "nlp = spacy.load('en')"
   ]
  },
  {
   "cell_type": "code",
   "execution_count": 6,
   "metadata": {},
   "outputs": [],
   "source": [
    "s_doc = nlp(text)"
   ]
  },
  {
   "cell_type": "code",
   "execution_count": 7,
   "metadata": {},
   "outputs": [
    {
     "data": {
      "text/plain": [
       "[(Humble Bundle, 'ORG', 0.0),\n",
       " (at least $30 dollars, 'MONEY', 0.0),\n",
       " (the Humble Freedom Bundle, 'ORG', 0.0),\n",
       " (100 percent, 'PERCENT', 0.0),\n",
       " (ACLU, 'ORG', 0.0),\n",
       " (American Civil Liberties Union, 'ORG', 0.0),\n",
       " (IRC (International Rescue Committee, 'ORG', 0.0),\n",
       " (MSF, 'ORG', 0.0),\n",
       " (Humble Bundle, 'ORG', 0.0),\n",
       " (300,000, 'MONEY', 0.0),\n",
       " (February 20, 'DATE', 0.0),\n",
       " (680,625, 'MONEY', 0.0),\n",
       " (The Humble Freedom Bundle, 'ORG', 0.0),\n",
       " (40, 'CARDINAL', 0.0),\n",
       " (recent years, 'DATE', 0.0),\n",
       " (Stardew Valley, 'LOC', 0.0),\n",
       " (first, 'ORDINAL', 0.0),\n",
       " (Octodad, 'PERSON', 0.0),\n",
       " (Catch, 'PERSON', 0.0),\n",
       " (Humble Bundle, 'ORG', 0.0)]"
      ]
     },
     "execution_count": 7,
     "metadata": {},
     "output_type": "execute_result"
    }
   ],
   "source": [
    "[(el, el.label_ , el.sentiment)for el in s_doc.ents]"
   ]
  },
  {
   "cell_type": "code",
   "execution_count": 8,
   "metadata": {},
   "outputs": [
    {
     "ename": "NameError",
     "evalue": "name 'doc_text' is not defined",
     "output_type": "error",
     "traceback": [
      "\u001b[0;31m---------------------------------------------------------------------------\u001b[0m",
      "\u001b[0;31mNameError\u001b[0m                                 Traceback (most recent call last)",
      "\u001b[0;32m<ipython-input-8-ccd03f2e5631>\u001b[0m in \u001b[0;36m<module>\u001b[0;34m\u001b[0m\n\u001b[0;32m----> 1\u001b[0;31m \u001b[0mdoc_text\u001b[0m\u001b[0;34m.\u001b[0m\u001b[0mto_bag_of_terms\u001b[0m\u001b[0;34m(\u001b[0m\u001b[0mlemmatize\u001b[0m\u001b[0;34m=\u001b[0m\u001b[0;32mTrue\u001b[0m\u001b[0;34m,\u001b[0m \u001b[0mas_strings\u001b[0m\u001b[0;34m=\u001b[0m\u001b[0;32mTrue\u001b[0m\u001b[0;34m)\u001b[0m\u001b[0;34m\u001b[0m\u001b[0;34m\u001b[0m\u001b[0m\n\u001b[0m",
      "\u001b[0;31mNameError\u001b[0m: name 'doc_text' is not defined"
     ]
    }
   ],
   "source": [
    "doc_text.to_bag_of_terms(lemmatize=True, as_strings=True)"
   ]
  },
  {
   "cell_type": "code",
   "execution_count": 9,
   "metadata": {},
   "outputs": [],
   "source": [
    "import textblob"
   ]
  },
  {
   "cell_type": "code",
   "execution_count": 10,
   "metadata": {},
   "outputs": [],
   "source": [
    "t_doc = textblob.TextBlob(text)"
   ]
  },
  {
   "cell_type": "code",
   "execution_count": 11,
   "metadata": {},
   "outputs": [
    {
     "data": {
      "text/plain": [
       "Sentiment(polarity=0.17838203463203464, subjectivity=0.40551948051948056)"
      ]
     },
     "execution_count": 11,
     "metadata": {},
     "output_type": "execute_result"
    }
   ],
   "source": [
    "t_doc.sentiment"
   ]
  },
  {
   "cell_type": "code",
   "execution_count": 12,
   "metadata": {},
   "outputs": [
    {
     "data": {
      "text/plain": [
       "defaultdict(int,\n",
       "            {'ere': 1,\n",
       "             '’': 4,\n",
       "             's': 2,\n",
       "             'a': 4,\n",
       "             'quick': 1,\n",
       "             'way': 1,\n",
       "             'to': 5,\n",
       "             'beef': 1,\n",
       "             'up': 1,\n",
       "             'your': 1,\n",
       "             'pc': 3,\n",
       "             'gaming': 1,\n",
       "             'library': 1,\n",
       "             'while': 2,\n",
       "             'helping': 1,\n",
       "             'good': 2,\n",
       "             'causes': 1,\n",
       "             'and': 5,\n",
       "             'saving': 1,\n",
       "             'money': 3,\n",
       "             'humble': 5,\n",
       "             'bundle': 6,\n",
       "             'site': 2,\n",
       "             'that': 2,\n",
       "             'lets': 1,\n",
       "             'people': 1,\n",
       "             'buy': 1,\n",
       "             'games': 6,\n",
       "             'donating': 1,\n",
       "             'charities': 2,\n",
       "             'has': 2,\n",
       "             'new': 1,\n",
       "             'huge': 1,\n",
       "             'collection': 1,\n",
       "             'of': 4,\n",
       "             'available': 2,\n",
       "             'anyone': 1,\n",
       "             'who': 1,\n",
       "             'donates': 1,\n",
       "             'at': 1,\n",
       "             'least': 1,\n",
       "             '30': 1,\n",
       "             'dollars': 1,\n",
       "             'it': 3,\n",
       "             'called': 1,\n",
       "             'the': 13,\n",
       "             'freedom': 2,\n",
       "             'with': 2,\n",
       "             '100': 1,\n",
       "             'percent': 1,\n",
       "             'earned': 2,\n",
       "             'going': 1,\n",
       "             'aclu': 1,\n",
       "             'american': 1,\n",
       "             'civil': 1,\n",
       "             'liberties': 1,\n",
       "             'union': 1,\n",
       "             'irc': 1,\n",
       "             'international': 1,\n",
       "             'rescue': 1,\n",
       "             'committee': 1,\n",
       "             'msf': 1,\n",
       "             'doctors': 1,\n",
       "             'without': 1,\n",
       "             'borders': 1,\n",
       "             'had': 1,\n",
       "             'an': 1,\n",
       "             'original': 1,\n",
       "             'goal': 1,\n",
       "             'earning': 1,\n",
       "             '300,000': 1,\n",
       "             'before': 2,\n",
       "             'deal': 1,\n",
       "             'ended': 1,\n",
       "             'on': 3,\n",
       "             'february': 1,\n",
       "             '20': 1,\n",
       "             'already': 1,\n",
       "             'more': 2,\n",
       "             'than': 1,\n",
       "             'doubled': 1,\n",
       "             '680,625': 1,\n",
       "             'currently': 1,\n",
       "             'offers': 1,\n",
       "             '40': 1,\n",
       "             'although': 1,\n",
       "             'may': 1,\n",
       "             'become': 1,\n",
       "             'don': 1,\n",
       "             't': 1,\n",
       "             'worry': 1,\n",
       "             'you': 4,\n",
       "             'll': 1,\n",
       "             'gain': 1,\n",
       "             'access': 1,\n",
       "             'any': 1,\n",
       "             'added': 1,\n",
       "             'even': 1,\n",
       "             'if': 1,\n",
       "             'pay': 1,\n",
       "             'for': 4,\n",
       "             'also': 1,\n",
       "             'includes': 3,\n",
       "             'some': 2,\n",
       "             'audio': 1,\n",
       "             'digital': 1,\n",
       "             'books': 1,\n",
       "             'as': 1,\n",
       "             'list': 2,\n",
       "             'best': 1,\n",
       "             'indie': 1,\n",
       "             'efforts': 1,\n",
       "             'in': 1,\n",
       "             'recent': 1,\n",
       "             'years': 1,\n",
       "             'this': 2,\n",
       "             'farming': 1,\n",
       "             'game': 2,\n",
       "             'stardew': 1,\n",
       "             'valley': 1,\n",
       "             'first-person': 1,\n",
       "             'puzzle': 1,\n",
       "             'witness': 1,\n",
       "             'play-as-an-octopus-pretending-to-be-a-normal-family-man': 1,\n",
       "             'simulator': 1,\n",
       "             'octodad': 1,\n",
       "             'dadliest': 1,\n",
       "             'catch': 1,\n",
       "             'can': 1,\n",
       "             'find': 1,\n",
       "             'full': 1,\n",
       "             'so': 1,\n",
       "             'get': 2,\n",
       "             'great': 1,\n",
       "             'cheap': 1,\n",
       "             'is': 1,\n",
       "             'win-win': 1})"
      ]
     },
     "execution_count": 12,
     "metadata": {},
     "output_type": "execute_result"
    }
   ],
   "source": [
    "t_doc.word_counts"
   ]
  }
 ],
 "metadata": {
  "kernelspec": {
   "display_name": "Python 3",
   "language": "python",
   "name": "python3"
  },
  "language_info": {
   "codemirror_mode": {
    "name": "ipython",
    "version": 3
   },
   "file_extension": ".py",
   "mimetype": "text/x-python",
   "name": "python",
   "nbconvert_exporter": "python",
   "pygments_lexer": "ipython3",
   "version": "3.7.4"
  }
 },
 "nbformat": 4,
 "nbformat_minor": 2
}
